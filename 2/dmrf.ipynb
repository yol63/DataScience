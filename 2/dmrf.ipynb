{
 "cells": [
  {
   "cell_type": "markdown",
   "metadata": {
    "pycharm": {
     "name": "#%% md\n"
    }
   },
   "source": [
    "# Задание\n",
    "* Собрать информацию о всех строящихся объектах на сайте \"наш.дом.рф\"\n",
    "* Cохранить ее в pandas dataframe\n",
    "* Cохранить pandas dataframe в excel\n",
    "* Cохранить pandas dataframe в pickle\n",
    "* Cохранить pandas dataframe в БД\n",
    "\n"
   ]
  },
  {
   "cell_type": "code",
   "execution_count": 3,
   "metadata": {
    "pycharm": {
     "name": "#%%\n"
    }
   },
   "outputs": [],
   "source": [
    "import requests\n",
    "import pandas as pd"
   ]
  },
  {
   "cell_type": "markdown",
   "metadata": {
    "pycharm": {
     "name": "#%% md\n"
    }
   },
   "source": [
    "## Список объектов"
   ]
  },
  {
   "cell_type": "code",
   "execution_count": 1,
   "metadata": {
    "pycharm": {
     "name": "#%%\n"
    }
   },
   "outputs": [
    {
     "name": "stdout",
     "output_type": "stream",
     "text": [
      "запрос 1 ответ <Response [200]> длина сета 1000\n",
      "запрос 2 ответ <Response [200]> длина сета 2000\n",
      "запрос 3 ответ <Response [200]> длина сета 3000\n",
      "запрос 4 ответ <Response [200]> длина сета 4000\n",
      "запрос 5 ответ <Response [200]> длина сета 5000\n",
      "запрос 6 ответ <Response [200]> длина сета 6000\n",
      "запрос 7 ответ <Response [200]> длина сета 7000\n",
      "запрос 8 ответ <Response [200]> длина сета 8000\n",
      "запрос 9 ответ <Response [200]> длина сета 9000\n",
      "запрос 10 ответ <Response [200]> длина сета 10000\n",
      "запрос 11 ответ <Response [200]> длина сета 10095\n"
     ]
    }
   ],
   "source": [
    "import requests\n",
    "objids = set()\n",
    "\n",
    "for i in range(11):\n",
    "    offset_ = 0 + i*1000\n",
    "    limit_ = 1000\n",
    "    url = f'https://xn--80az8a.xn--d1aqf.xn--p1ai/сервисы/api/kn/object?offset={offset_}&limit={limit_}&sortField=devId.devShortCleanNm&sortType=asc&objStatus=0'\n",
    "    res = requests.get(url)\n",
    "    objects_data = res.json()\n",
    "    objects_list = objects_data.get('data').get('list')\n",
    "    objids_temp = {x.get('objId') for x in objects_list}\n",
    "    objids = objids.union(objids_temp)\n",
    "    print('запрос ' + str(i + 1) + ' ответ ' + str(res) + ' длина сета ' + str(len(objids)))"
   ]
  },
  {
   "cell_type": "markdown",
   "metadata": {
    "pycharm": {
     "name": "#%% md\n"
    }
   },
   "source": [
    "# Данные по определенному объекту"
   ]
  },
  {
   "cell_type": "code",
   "execution_count": 1,
   "metadata": {
    "scrolled": true
   },
   "outputs": [],
   "source": [
    "import pandas as pd\n",
    "df = pd.DataFrame()\n",
    "i = 0\n",
    "\n",
    "for object_ in objids:\n",
    "    i = i+1\n",
    "    url = f'https://xn--80az8a.xn--d1aqf.xn--p1ai/сервисы/api/object/{object_}'\n",
    "    res = requests.get(url)\n",
    "    df_temp = pd.json_normalize(res.json().get('data'))\n",
    "    df = pd.concat([df,df_temp], ignore_index = True)\n",
    "    print(str(i) + ': ' + str(object_))\n",
    "\n",
    "df "
   ]
  },
  {
   "cell_type": "code",
   "execution_count": 2,
   "metadata": {},
   "outputs": [
    {
     "ename": "NameError",
     "evalue": "name 'df' is not defined",
     "output_type": "error",
     "traceback": [
      "\u001b[1;31m---------------------------------------------------------------------------\u001b[0m",
      "\u001b[1;31mNameError\u001b[0m                                 Traceback (most recent call last)",
      "\u001b[1;32m~\\AppData\\Local\\Temp/ipykernel_33824/1396537375.py\u001b[0m in \u001b[0;36m<module>\u001b[1;34m\u001b[0m\n\u001b[1;32m----> 1\u001b[1;33m \u001b[0mdf\u001b[0m\u001b[1;33m\u001b[0m\u001b[1;33m\u001b[0m\u001b[0m\n\u001b[0m",
      "\u001b[1;31mNameError\u001b[0m: name 'df' is not defined"
     ]
    }
   ],
   "source": [
    "df"
   ]
  },
  {
   "cell_type": "markdown",
   "metadata": {},
   "source": [
    "# Сохранение данных"
   ]
  },
  {
   "cell_type": "code",
   "execution_count": 6,
   "metadata": {},
   "outputs": [],
   "source": [
    "df.to_excel('dmrf.xlsx')\n",
    "\n",
    "import pickle\n",
    "df.to_pickle('dmrf.pkl')\n",
    "\n",
    "import sqlite3\n",
    "conn = sqlite3.connect('dmrf_database')\n",
    "df = df.applymap(str)\n",
    "df.to_sql('dmrf', conn, if_exists='replace', index = False)\n",
    "conn.commit()\n",
    "conn.close()"
   ]
  }
 ],
 "metadata": {
  "kernelspec": {
   "display_name": "Python 3 (ipykernel)",
   "language": "python",
   "name": "python3"
  },
  "language_info": {
   "codemirror_mode": {
    "name": "ipython",
    "version": 3
   },
   "file_extension": ".py",
   "mimetype": "text/x-python",
   "name": "python",
   "nbconvert_exporter": "python",
   "pygments_lexer": "ipython3",
   "version": "3.9.7"
  }
 },
 "nbformat": 4,
 "nbformat_minor": 1
}
